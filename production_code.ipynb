{
 "cells": [
  {
   "cell_type": "markdown",
   "id": "d4d5f69e-8af8-479b-9305-40321b418e53",
   "metadata": {},
   "source": [
    "# Imports"
   ]
  },
  {
   "cell_type": "code",
   "execution_count": null,
   "id": "3775908f-ca36-4846-8f38-5adca39217f2",
   "metadata": {
    "language": "python",
    "name": "cell1"
   },
   "outputs": [],
   "source": [
    "from snowflake.snowpark import Session\n",
    "from snowflake.ml.registry import Registry\n",
    "from snowflake.snowpark.context import get_active_session\n",
    "from snowflake.ml.feature_store import (\n",
    "    FeatureStore,\n",
    "    FeatureView,\n",
    "    Entity,\n",
    "    CreationMode\n",
    ")\n",
    "\n",
    "session = get_active_session()"
   ]
  },
  {
   "cell_type": "markdown",
   "id": "5d703e8a-23e8-485d-b20a-369c30d6d2b3",
   "metadata": {},
   "source": [
    "# Connect to Registry and Feature Store"
   ]
  },
  {
   "cell_type": "code",
   "execution_count": null,
   "id": "8d50cbf4-0c8d-4950-86cb-114990437ac9",
   "metadata": {
    "language": "python",
    "name": "cell2"
   },
   "outputs": [],
   "source": [
    "\n",
    "reg = Registry(\n",
    "    session=session, \n",
    "    database_name=session.get_current_database(), \n",
    "    schema_name=session.get_current_schema(),\n",
    ")\n",
    "\n",
    "\n",
    "fs = FeatureStore(\n",
    "    session=session, \n",
    "    database=session.get_current_database(), \n",
    "    name=session.get_current_schema(), \n",
    "    default_warehouse=session.get_current_warehouse(),\n",
    "    creation_mode=CreationMode.CREATE_IF_NOT_EXIST,\n",
    ")\n",
    "\n",
    "print(\"Current Database: \" + session.get_current_database())\n",
    "print(\"Current Schema: \" + session.get_current_schema())"
   ]
  },
  {
   "cell_type": "code",
   "execution_count": null,
   "id": "73ab0ca6-1a45-4606-8cb0-1470eb8b8263",
   "metadata": {
    "language": "python",
    "name": "cell11"
   },
   "outputs": [],
   "source": [
    "# fs.list_feature_views()\n",
    "version = '1'\n",
    "fv_instance_register_dates=fs.get_feature_view(\"real_estate_dates_fv\", version)\n",
    "fv_instance_register=fs.get_feature_view(\"real_estate_fv\", version)"
   ]
  },
  {
   "cell_type": "code",
   "execution_count": null,
   "id": "c695373e-ac74-4b62-a1f1-08206cbd5c81",
   "metadata": {
    "language": "python",
    "name": "cell3"
   },
   "outputs": [],
   "source": [
    "reg.show_models()"
   ]
  },
  {
   "cell_type": "code",
   "execution_count": null,
   "id": "678d5c34-fdaf-4489-a535-69b8d6138a11",
   "metadata": {
    "language": "python",
    "name": "cell4"
   },
   "outputs": [],
   "source": [
    "model = reg.get_model('Real_estate').version('RF_1st')"
   ]
  },
  {
   "cell_type": "code",
   "execution_count": null,
   "id": "d0fac6bd-ac0c-4de7-a1f5-c75220252b13",
   "metadata": {
    "language": "python",
    "name": "cell5"
   },
   "outputs": [],
   "source": [
    "model = reg.get_model('Real_estate').default"
   ]
  },
  {
   "cell_type": "code",
   "execution_count": null,
   "id": "b811caf9-4c44-4741-9f27-15e51258f980",
   "metadata": {
    "language": "python",
    "name": "cell6"
   },
   "outputs": [],
   "source": [
    "predict_df = fs.generate_training_set(\n",
    "    spine_df=session.sql(f\"select ID from NFUM2981UKDEV01DB001.EDS.REAL_ESTATE_DATES where ID > 17337\"),\n",
    "    #\"select ID from NFUM2981UKDEV01DB001.EDS.REAL_ESTATE_DATES where day == today()\n",
    "    features=[fv_instance_register_dates,fv_instance_register]\n",
    ").to_pandas()"
   ]
  },
  {
   "cell_type": "code",
   "execution_count": null,
   "id": "c9657e36-579a-420a-8fc5-d7a721a9d356",
   "metadata": {
    "language": "python",
    "name": "cell8"
   },
   "outputs": [],
   "source": [
    "predict_df"
   ]
  },
  {
   "cell_type": "markdown",
   "id": "c2792569-583d-442e-8d3e-ee51f6f11bda",
   "metadata": {
    "collapsed": false,
    "jupyter": {
     "outputs_hidden": false
    },
    "name": "cell12"
   },
   "source": [
    "# Apply Custom Transformations (optional, if applicable)"
   ]
  },
  {
   "cell_type": "code",
   "execution_count": null,
   "id": "86cd226e-c8f6-4a6d-9a6d-0d8aa6792af8",
   "metadata": {
    "language": "python",
    "name": "cell10"
   },
   "outputs": [],
   "source": [
    "import numpy as np\n",
    "import pyproj\n",
    "current_year = 2025\n",
    "geodesic = pyproj.Geod(ellps='WGS84')\n",
    "center = (52.22617782084895, 21.008312146369033)\n",
    "\n",
    "def remove_outliers(df):\n",
    "    df = df[(df.LONG < 21.3) & (df.LAT > 52.05)]\n",
    "    df = df[df.BUILDING_FLOORS_NUM <=25]\n",
    "    df = df[df.ROOMS_NUM <= 10]\n",
    "    df['BUILDING_AGE'] = current_year - df['BUILD_YEAR']\n",
    "    df['LOG_PRICE'] = np.log(df.PRICE)\n",
    "    return df\n",
    "\n",
    "# Forward Azimuth - the direction in which the apartment lies measured from a center\n",
    "# Distance - distance from that center\n",
    "# Together in a non-linear model these features reflect a zone/segment of the city in which the apartment is located\n",
    "\n",
    "def adv_features(df):\n",
    "    df['FWD_AZIMUTH_CENTER'] = df.apply(lambda x: 180 + geodesic.inv(x.LAT, x.LONG, center[0], center[1])[0],axis=1)\n",
    "    return df"
   ]
  },
  {
   "cell_type": "code",
   "execution_count": null,
   "id": "d746d3ea-eb06-4063-ab1f-d0017f5ebd81",
   "metadata": {
    "language": "python",
    "name": "cell9"
   },
   "outputs": [],
   "source": [
    "# apply transformations\n",
    "predict_df = remove_outliers(predict_df)\n",
    "predict_df = adv_features(predict_df)"
   ]
  },
  {
   "cell_type": "code",
   "execution_count": null,
   "id": "fd479780-f145-41fb-a93a-92fd728c6ff9",
   "metadata": {
    "language": "python",
    "name": "cell14"
   },
   "outputs": [],
   "source": [
    "final_variables =['SQM', 'BUILDING_AGE', 'BUILDING_FLOORS_NUM', 'ROOMS_NUM', 'FLOOR_NO', 'FWD_AZIMUTH_CENTER','WORD_BALCONY']"
   ]
  },
  {
   "cell_type": "code",
   "execution_count": null,
   "id": "64b89e12-c177-4ac9-a85c-4ddbf108480e",
   "metadata": {
    "language": "python",
    "name": "cell13"
   },
   "outputs": [],
   "source": [
    "pred_df = model.run(predict_df[final_variables], function_name='predict')"
   ]
  },
  {
   "cell_type": "code",
   "execution_count": null,
   "id": "cdce4e29-f4a9-4986-b837-0c6444234373",
   "metadata": {
    "language": "python",
    "name": "cell15"
   },
   "outputs": [],
   "source": [
    "pred_df"
   ]
  },
  {
   "cell_type": "markdown",
   "id": "1b4ff7d2-1c0c-48e9-a46b-58d9b2c599e0",
   "metadata": {},
   "source": [
    "# Write results to a table"
   ]
  },
  {
   "cell_type": "code",
   "execution_count": 10,
   "id": "4ccd216a-c4b3-4403-ad1e-8f458b9790cd",
   "metadata": {},
   "outputs": [],
   "source": [
    "# TODO ..."
   ]
  }
 ],
 "metadata": {
  "kernelspec": {
   "display_name": "py-snowpark_df_ml_fs11",
   "language": "python",
   "name": "py-snowpark_df_ml_fs11"
  },
  "language_info": {
   "codemirror_mode": {
    "name": "ipython",
    "version": 3
   },
   "file_extension": ".py",
   "mimetype": "text/x-python",
   "name": "python",
   "nbconvert_exporter": "python",
   "pygments_lexer": "ipython3",
   "version": "3.11.11"
  },
  "lastEditStatus": {
   "authorEmail": "vikas_anand@nfumutual.co.uk",
   "authorId": "1948656806496",
   "authorName": "ANANDV_DEV",
   "lastEditTime": 1748512384633,
   "notebookId": "fevjnrwxlswmtayv46hy",
   "sessionId": "66b9f226-b12e-4597-bb52-e0abc43f1127"
  }
 },
 "nbformat": 4,
 "nbformat_minor": 5
}
